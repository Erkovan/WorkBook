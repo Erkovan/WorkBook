{
 "cells": [
  {
   "cell_type": "code",
   "execution_count": 9,
   "id": "f11256c4",
   "metadata": {},
   "outputs": [
    {
     "name": "stdout",
     "output_type": "stream",
     "text": [
      "Corey\n",
      "Corey.Schafer@company.com\n",
      "Corey Schafer\n",
      "None\n"
     ]
    }
   ],
   "source": [
    "class Employee:\n",
    "\n",
    "    def __init__(self, first, last):\n",
    "        self.first = first\n",
    "        self.last = last\n",
    "\n",
    "    @property\n",
    "    def email(self):\n",
    "        return '{}.{}@company.com'.format(self.first, self.last)\n",
    "\n",
    "    @property\n",
    "    def fullname(self):\n",
    "        return '{} {}'.format(self.first, self.last)\n",
    "    \n",
    "    @fullname.setter\n",
    "    def fullname(self, name):\n",
    "        first, last = name.split(\" \")\n",
    "        self.first = first\n",
    "        self.last = last\n",
    "        \n",
    "    @fullname.deleter\n",
    "    def fullname(self):\n",
    "        self.first = None\n",
    "        self.last = None\n",
    "       \n",
    "        \n",
    "        \n",
    "\n",
    "emp_1 = Employee('John', 'Smith')\n",
    "emp_1.fullname = \"Corey Schafer\"\n",
    "\n",
    "print(emp_1.first)\n",
    "print(emp_1.email)\n",
    "print(emp_1.fullname)\n",
    "\n",
    "del emp_1.fullname\n",
    "\n",
    "print(emp_1.first)"
   ]
  }
 ],
 "metadata": {
  "kernelspec": {
   "display_name": "Python 3 (ipykernel)",
   "language": "python",
   "name": "python3"
  },
  "language_info": {
   "codemirror_mode": {
    "name": "ipython",
    "version": 3
   },
   "file_extension": ".py",
   "mimetype": "text/x-python",
   "name": "python",
   "nbconvert_exporter": "python",
   "pygments_lexer": "ipython3",
   "version": "3.11.5"
  }
 },
 "nbformat": 4,
 "nbformat_minor": 5
}
