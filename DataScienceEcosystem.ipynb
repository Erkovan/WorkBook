{
 "cells": [
  {
   "cell_type": "markdown",
   "id": "6260326d-1028-4ae4-b921-a504f4d2f85e",
   "metadata": {},
   "source": [
    "# Data Science Tools and Ecosystem"
   ]
  },
  {
   "cell_type": "markdown",
   "id": "0d05c5a4-3fed-4240-aaac-1f0a600f3d03",
   "metadata": {},
   "source": [
    "In this notebook, Data Science Tools and Ecosystem are summarized."
   ]
  },
  {
   "cell_type": "markdown",
   "id": "8263a244-49ca-41d5-bf04-ae254f3227a3",
   "metadata": {},
   "source": [
    "Some of the popular languages that Data Scientists use are:\n",
    "1. Python\n",
    "2. R\n",
    "3. SQL\n",
    "4. Java\n",
    "5. C++\n",
    "6. JavaScript"
   ]
  },
  {
   "cell_type": "markdown",
   "id": "56c549f8-c94e-453c-987f-6670ffefeb83",
   "metadata": {},
   "source": [
    "Some of the commonly used libraries used by Data Scientists include:\n",
    "1. Pandas\n",
    "2. NumPy\n",
    "3. Scit-it Learn\n",
    "4. Matplotlib\n",
    "5. Seaborn\n",
    "6. Plotly\n",
    "7. Tensorflow\n",
    "8. SciPy\n",
    "9. PyTorch\n",
    "10. Keras"
   ]
  },
  {
   "cell_type": "markdown",
   "id": "5d00a63c-89e5-437e-8981-6059c94d0167",
   "metadata": {},
   "source": [
    "|Data Science Tools|\n",
    "|------|\n",
    "|Jupyter Notebook|\n",
    "|R Studio|\n",
    "|Apache Spark|"
   ]
  },
  {
   "cell_type": "markdown",
   "id": "9c1c791d-66be-474d-81b7-3dc7c21f5069",
   "metadata": {},
   "source": [
    "### Below are a few examples of evaluating arithmetic expressions in Python"
   ]
  },
  {
   "cell_type": "code",
   "execution_count": 4,
   "id": "f3e4f3d8-b1ec-40d1-a5e8-858e69295af9",
   "metadata": {},
   "outputs": [
    {
     "data": {
      "text/plain": [
       "17"
      ]
     },
     "execution_count": 4,
     "metadata": {},
     "output_type": "execute_result"
    }
   ],
   "source": [
    "#This a simple arithmetic expression to mutiply then add integers\n",
    "(3*4)+5"
   ]
  },
  {
   "cell_type": "code",
   "execution_count": 5,
   "id": "86023c33-9734-4c09-9543-22a6805d7925",
   "metadata": {},
   "outputs": [
    {
     "name": "stdout",
     "output_type": "stream",
     "text": [
      "200 minutes is equal to 3.3333333333333335 hours\n"
     ]
    }
   ],
   "source": [
    "#This will convert 200 minutes to hours by diving by 60\n",
    "minutes = 200\n",
    "hours = minutes/60\n",
    "print(\"200 minutes is equal to \" + str(hours) + \" hours\")"
   ]
  },
  {
   "cell_type": "markdown",
   "id": "4700bcf9-44ff-4fc6-a3ec-80e2ed99dec1",
   "metadata": {},
   "source": [
    "**Objectives:**\n",
    "- Listing popular languages for Data Science\n",
    "- Learning how to create tables, titles, code cells and markdown cells\n",
    "- Defining variables \n",
    "- Using arithmetic operators in Python\n",
    "- Creating new Jupyter Notebook File"
   ]
  },
  {
   "cell_type": "markdown",
   "id": "2b8bba62-0bea-475a-9fb2-e8b6681c9937",
   "metadata": {},
   "source": [
    "## Author\n",
    "Oğuzalp Erkovan"
   ]
  }
 ],
 "metadata": {
  "kernelspec": {
   "display_name": "Python [conda env:base] *",
   "language": "python",
   "name": "conda-base-py"
  },
  "language_info": {
   "codemirror_mode": {
    "name": "ipython",
    "version": 3
   },
   "file_extension": ".py",
   "mimetype": "text/x-python",
   "name": "python",
   "nbconvert_exporter": "python",
   "pygments_lexer": "ipython3",
   "version": "3.11.5"
  }
 },
 "nbformat": 4,
 "nbformat_minor": 5
}
